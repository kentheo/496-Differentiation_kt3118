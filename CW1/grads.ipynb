{
 "cells": [
  {
   "cell_type": "code",
   "execution_count": 11,
   "metadata": {},
   "outputs": [],
   "source": [
    "import numpy as np"
   ]
  },
  {
   "cell_type": "code",
   "execution_count": 12,
   "metadata": {},
   "outputs": [],
   "source": [
    "\n",
    "# coding: utf-8\n",
    "\"\"\"\n",
    "Use this file for your answers.\n",
    "\n",
    "This file should been in the root of the repository\n",
    "(do not move it or change the file name)\n",
    "\n",
    "\"\"\"\n",
    "\n",
    "# NB this is tested on python 2.7. Watch out for integer division\n",
    "def grad_f1(x):\n",
    "    \"\"\"\n",
    "    4 marks\n",
    "\n",
    "    :param x: input array with shape (2, )\n",
    "    :return: the gradient of f1, with shape (2, )\n",
    "    \"\"\"\n",
    "    C = np.array([[4, -1], [-1, 4]])\n",
    "    c = np.array([1.0/6, 1.0/6])\n",
    "\n",
    "    grad = 2 * np.dot((x-c).T, C)\n",
    "    return grad\n",
    "\n",
    "def grad_f2(x):\n",
    "    \"\"\"\n",
    "    6 marks\n",
    "\n",
    "    :param x: input array with shape (2, )\n",
    "    :return: the gradient of f2, with shape (2, )\n",
    "    \"\"\"\n",
    "    a = np.array([1, 0])\n",
    "    b = np.array([0, -1])\n",
    "    B = np.array([[3, -1], [-1,3]])\n",
    "\n",
    "    x_minus_a = x - a\n",
    "    x_minus_b = x - b\n",
    "\n",
    "    grad = (2 * np.dot(np.cos(np.dot(x_minus_a.T, x_minus_a)), x_minus_a.T)) + (2 * np.dot(x_minus_b.T, B))\n",
    "\n",
    "    return grad\n",
    "\n",
    "def grad_f3(x):\n",
    "    \"\"\"\n",
    "    This question is optional. The test will still run (so you can see if you are correct by\n",
    "    looking at the testResults.txt file), but the marks are for grad_f1 and grad_f2 only.\n",
    "\n",
    "    Do not delete this function.\n",
    "\n",
    "    :param x: input array with shape (2, )\n",
    "    :return: the gradient of f3, with shape (2, )\n",
    "    \"\"\"\n",
    "    a = np.array([1, 0])\n",
    "    b = np.array([0, -1])\n",
    "    B = np.array([[3, -1], [-1,3]])\n",
    "\n",
    "    x_minus_a = x - a\n",
    "    x_minus_b = x - b\n",
    "\n",
    "    exp_1 = np.dot(x_minus_a.T, x_minus_a)\n",
    "    exp_2 = np.dot(x_minus_b.T, np.dot(B, x_minus_b))\n",
    "    \n",
    "    x_T = np.array([x]).T\n",
    "\n",
    "    grad = np.exp(exp_1)*(2 * x.T) + np.exp(exp_2)*(2 * np.dot(x.T, B)) + (((2/1000) * x.T) / np.linalg.det(1/100.0* np.identity(2) + (x* x_T)))\n",
    "    \n",
    "    return grad"
   ]
  },
  {
   "cell_type": "code",
   "execution_count": 13,
   "metadata": {},
   "outputs": [
    {
     "ename": "AttributeError",
     "evalue": "'list' object has no attribute 'T'",
     "output_type": "error",
     "traceback": [
      "\u001b[0;31m---------------------------------------------------------------------------\u001b[0m",
      "\u001b[0;31mAttributeError\u001b[0m                            Traceback (most recent call last)",
      "\u001b[0;32m<ipython-input-13-64549063053e>\u001b[0m in \u001b[0;36m<module>\u001b[0;34m()\u001b[0m\n\u001b[0;32m----> 1\u001b[0;31m \u001b[0mgrad_f3\u001b[0m\u001b[0;34m(\u001b[0m\u001b[0;34m[\u001b[0m\u001b[0;36m0.0\u001b[0m\u001b[0;34m,\u001b[0m \u001b[0;36m1.0\u001b[0m\u001b[0;34m]\u001b[0m\u001b[0;34m)\u001b[0m\u001b[0;34m\u001b[0m\u001b[0m\n\u001b[0m",
      "\u001b[0;32m<ipython-input-12-fdbead667886>\u001b[0m in \u001b[0;36mgrad_f3\u001b[0;34m(x)\u001b[0m\n\u001b[1;32m     63\u001b[0m     \u001b[0mx_T\u001b[0m \u001b[0;34m=\u001b[0m \u001b[0mnp\u001b[0m\u001b[0;34m.\u001b[0m\u001b[0marray\u001b[0m\u001b[0;34m(\u001b[0m\u001b[0;34m[\u001b[0m\u001b[0mx\u001b[0m\u001b[0;34m]\u001b[0m\u001b[0;34m)\u001b[0m\u001b[0;34m.\u001b[0m\u001b[0mT\u001b[0m\u001b[0;34m\u001b[0m\u001b[0m\n\u001b[1;32m     64\u001b[0m \u001b[0;34m\u001b[0m\u001b[0m\n\u001b[0;32m---> 65\u001b[0;31m     \u001b[0mgrad\u001b[0m \u001b[0;34m=\u001b[0m \u001b[0mnp\u001b[0m\u001b[0;34m.\u001b[0m\u001b[0mexp\u001b[0m\u001b[0;34m(\u001b[0m\u001b[0mexp_1\u001b[0m\u001b[0;34m)\u001b[0m\u001b[0;34m*\u001b[0m\u001b[0;34m(\u001b[0m\u001b[0;36m2\u001b[0m \u001b[0;34m*\u001b[0m \u001b[0mx\u001b[0m\u001b[0;34m.\u001b[0m\u001b[0mT\u001b[0m\u001b[0;34m)\u001b[0m \u001b[0;34m+\u001b[0m \u001b[0mnp\u001b[0m\u001b[0;34m.\u001b[0m\u001b[0mexp\u001b[0m\u001b[0;34m(\u001b[0m\u001b[0mexp_2\u001b[0m\u001b[0;34m)\u001b[0m\u001b[0;34m*\u001b[0m\u001b[0;34m(\u001b[0m\u001b[0;36m2\u001b[0m \u001b[0;34m*\u001b[0m \u001b[0mnp\u001b[0m\u001b[0;34m.\u001b[0m\u001b[0mdot\u001b[0m\u001b[0;34m(\u001b[0m\u001b[0mx\u001b[0m\u001b[0;34m.\u001b[0m\u001b[0mT\u001b[0m\u001b[0;34m,\u001b[0m \u001b[0mB\u001b[0m\u001b[0;34m)\u001b[0m\u001b[0;34m)\u001b[0m \u001b[0;34m+\u001b[0m \u001b[0;34m(\u001b[0m\u001b[0;34m(\u001b[0m\u001b[0;34m(\u001b[0m\u001b[0;36m2\u001b[0m\u001b[0;34m/\u001b[0m\u001b[0;36m1000\u001b[0m\u001b[0;34m)\u001b[0m \u001b[0;34m*\u001b[0m \u001b[0mx\u001b[0m\u001b[0;34m.\u001b[0m\u001b[0mT\u001b[0m\u001b[0;34m)\u001b[0m \u001b[0;34m/\u001b[0m \u001b[0mnp\u001b[0m\u001b[0;34m.\u001b[0m\u001b[0mlinalg\u001b[0m\u001b[0;34m.\u001b[0m\u001b[0mdet\u001b[0m\u001b[0;34m(\u001b[0m\u001b[0;36m1\u001b[0m\u001b[0;34m/\u001b[0m\u001b[0;36m100.0\u001b[0m\u001b[0;34m*\u001b[0m \u001b[0mnp\u001b[0m\u001b[0;34m.\u001b[0m\u001b[0midentity\u001b[0m\u001b[0;34m(\u001b[0m\u001b[0;36m2\u001b[0m\u001b[0;34m)\u001b[0m \u001b[0;34m+\u001b[0m \u001b[0;34m(\u001b[0m\u001b[0mx\u001b[0m\u001b[0;34m*\u001b[0m \u001b[0mx_T\u001b[0m\u001b[0;34m)\u001b[0m\u001b[0;34m)\u001b[0m\u001b[0;34m)\u001b[0m\u001b[0;34m\u001b[0m\u001b[0m\n\u001b[0m\u001b[1;32m     66\u001b[0m \u001b[0;34m\u001b[0m\u001b[0m\n\u001b[1;32m     67\u001b[0m     \u001b[0;32mreturn\u001b[0m \u001b[0mgrad\u001b[0m\u001b[0;34m\u001b[0m\u001b[0m\n",
      "\u001b[0;31mAttributeError\u001b[0m: 'list' object has no attribute 'T'"
     ]
    }
   ],
   "source": [
    "grad_f3([0.0, 1.0])"
   ]
  },
  {
   "cell_type": "code",
   "execution_count": null,
   "metadata": {},
   "outputs": [],
   "source": []
  }
 ],
 "metadata": {
  "kernelspec": {
   "display_name": "Python 2",
   "language": "python",
   "name": "python2"
  },
  "language_info": {
   "codemirror_mode": {
    "name": "ipython",
    "version": 2
   },
   "file_extension": ".py",
   "mimetype": "text/x-python",
   "name": "python",
   "nbconvert_exporter": "python",
   "pygments_lexer": "ipython2",
   "version": "2.7.15"
  }
 },
 "nbformat": 4,
 "nbformat_minor": 2
}
